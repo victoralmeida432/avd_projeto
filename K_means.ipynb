{
 "cells": [
  {
   "cell_type": "code",
   "execution_count": 5,
   "metadata": {},
   "outputs": [
    {
     "name": "stdout",
     "output_type": "stream",
     "text": [
      "<class 'pandas.core.frame.DataFrame'>\n",
      "RangeIndex: 2832 entries, 0 to 2831\n",
      "Data columns (total 14 columns):\n",
      " #   Column                                               Non-Null Count  Dtype \n",
      "---  ------                                               --------------  ----- \n",
      " 0   Age                                                  2832 non-null   int64 \n",
      " 1   Sex                                                  2832 non-null   object\n",
      " 2   Race                                                 2832 non-null   object\n",
      " 3   Marital status?                                      2832 non-null   object\n",
      " 4   Education                                            2832 non-null   object\n",
      " 5   Employement                                          2832 non-null   object\n",
      " 6   Incomes                                              2832 non-null   object\n",
      " 7   How many books did you read during last 12months?    2832 non-null   int64 \n",
      " 8   Read any printed books during last 12months?         2442 non-null   object\n",
      " 9   Read any audiobooks during last 12months?            2442 non-null   object\n",
      " 10  Read any e-books during last 12months?               2442 non-null   object\n",
      " 11  Last book you read, you…                             2442 non-null   object\n",
      " 12  Do you happen to read any daily news or newspapers?  2832 non-null   object\n",
      " 13  Do you happen to read any magazines or journals?     2832 non-null   object\n",
      "dtypes: int64(2), object(12)\n",
      "memory usage: 309.9+ KB\n"
     ]
    }
   ],
   "source": [
    "import pandas as pd\n",
    "\n",
    "df = pd.read_csv('~/Downloads/BigML_Dataset_5f50a62795a9306aa200003e.csv')\n",
    "df.info()"
   ]
  },
  {
   "cell_type": "code",
   "execution_count": 6,
   "metadata": {},
   "outputs": [
    {
     "data": {
      "text/html": [
       "<div>\n",
       "<style scoped>\n",
       "    .dataframe tbody tr th:only-of-type {\n",
       "        vertical-align: middle;\n",
       "    }\n",
       "\n",
       "    .dataframe tbody tr th {\n",
       "        vertical-align: top;\n",
       "    }\n",
       "\n",
       "    .dataframe thead th {\n",
       "        text-align: right;\n",
       "    }\n",
       "</style>\n",
       "<table border=\"1\" class=\"dataframe\">\n",
       "  <thead>\n",
       "    <tr style=\"text-align: right;\">\n",
       "      <th></th>\n",
       "      <th>Age</th>\n",
       "      <th>Sex</th>\n",
       "      <th>Race</th>\n",
       "      <th>Marital status?</th>\n",
       "      <th>Education</th>\n",
       "      <th>Employement</th>\n",
       "      <th>Incomes</th>\n",
       "      <th>How many books did you read during last 12months?</th>\n",
       "      <th>Read any printed books during last 12months?</th>\n",
       "      <th>Read any audiobooks during last 12months?</th>\n",
       "      <th>Read any e-books during last 12months?</th>\n",
       "      <th>Last book you read, you…</th>\n",
       "      <th>Do you happen to read any daily news or newspapers?</th>\n",
       "      <th>Do you happen to read any magazines or journals?</th>\n",
       "    </tr>\n",
       "  </thead>\n",
       "  <tbody>\n",
       "    <tr>\n",
       "      <th>0</th>\n",
       "      <td>66</td>\n",
       "      <td>Male</td>\n",
       "      <td>Refused</td>\n",
       "      <td>Divorced</td>\n",
       "      <td>College graduate</td>\n",
       "      <td>Retired</td>\n",
       "      <td>$20,000 to under $30,000</td>\n",
       "      <td>97</td>\n",
       "      <td>Yes</td>\n",
       "      <td>No</td>\n",
       "      <td>Yes</td>\n",
       "      <td>Purchased the book</td>\n",
       "      <td>No</td>\n",
       "      <td>Yes</td>\n",
       "    </tr>\n",
       "    <tr>\n",
       "      <th>1</th>\n",
       "      <td>46</td>\n",
       "      <td>Male</td>\n",
       "      <td>Native American/American Indian</td>\n",
       "      <td>Married</td>\n",
       "      <td>High school graduate</td>\n",
       "      <td>Employed full-time</td>\n",
       "      <td>Less than $10,000</td>\n",
       "      <td>97</td>\n",
       "      <td>Yes</td>\n",
       "      <td>Yes</td>\n",
       "      <td>Yes</td>\n",
       "      <td>Purchased the book</td>\n",
       "      <td>Yes</td>\n",
       "      <td>Yes</td>\n",
       "    </tr>\n",
       "    <tr>\n",
       "      <th>2</th>\n",
       "      <td>32</td>\n",
       "      <td>Male</td>\n",
       "      <td>Mixed race</td>\n",
       "      <td>Never been married</td>\n",
       "      <td>High school graduate</td>\n",
       "      <td>Employed full-time</td>\n",
       "      <td>Less than $10,000</td>\n",
       "      <td>97</td>\n",
       "      <td>No</td>\n",
       "      <td>Yes</td>\n",
       "      <td>Yes</td>\n",
       "      <td>Borrowed the book from a friend or family member</td>\n",
       "      <td>Yes</td>\n",
       "      <td>Yes</td>\n",
       "    </tr>\n",
       "    <tr>\n",
       "      <th>3</th>\n",
       "      <td>27</td>\n",
       "      <td>Male</td>\n",
       "      <td>Mixed race</td>\n",
       "      <td>Married</td>\n",
       "      <td>High school graduate</td>\n",
       "      <td>Employed full-time</td>\n",
       "      <td>$40,000 to under $50,000</td>\n",
       "      <td>97</td>\n",
       "      <td>Yes</td>\n",
       "      <td>No</td>\n",
       "      <td>Yes</td>\n",
       "      <td>Borrowed the book from a library</td>\n",
       "      <td>Yes</td>\n",
       "      <td>No</td>\n",
       "    </tr>\n",
       "    <tr>\n",
       "      <th>4</th>\n",
       "      <td>16</td>\n",
       "      <td>Female</td>\n",
       "      <td>Mixed race</td>\n",
       "      <td>Never been married</td>\n",
       "      <td>High school incomplete</td>\n",
       "      <td>Employed part-time</td>\n",
       "      <td>$10,000 to under $20,000</td>\n",
       "      <td>97</td>\n",
       "      <td>Yes</td>\n",
       "      <td>Yes</td>\n",
       "      <td>No</td>\n",
       "      <td>Purchased the book</td>\n",
       "      <td>Yes</td>\n",
       "      <td>No</td>\n",
       "    </tr>\n",
       "  </tbody>\n",
       "</table>\n",
       "</div>"
      ],
      "text/plain": [
       "   Age     Sex                             Race     Marital status?  \\\n",
       "0   66    Male                          Refused            Divorced   \n",
       "1   46    Male  Native American/American Indian             Married   \n",
       "2   32    Male                       Mixed race  Never been married   \n",
       "3   27    Male                       Mixed race             Married   \n",
       "4   16  Female                       Mixed race  Never been married   \n",
       "\n",
       "                Education         Employement                   Incomes  \\\n",
       "0        College graduate             Retired  $20,000 to under $30,000   \n",
       "1    High school graduate  Employed full-time         Less than $10,000   \n",
       "2    High school graduate  Employed full-time         Less than $10,000   \n",
       "3    High school graduate  Employed full-time  $40,000 to under $50,000   \n",
       "4  High school incomplete  Employed part-time  $10,000 to under $20,000   \n",
       "\n",
       "   How many books did you read during last 12months?  \\\n",
       "0                                                 97   \n",
       "1                                                 97   \n",
       "2                                                 97   \n",
       "3                                                 97   \n",
       "4                                                 97   \n",
       "\n",
       "  Read any printed books during last 12months?  \\\n",
       "0                                          Yes   \n",
       "1                                          Yes   \n",
       "2                                           No   \n",
       "3                                          Yes   \n",
       "4                                          Yes   \n",
       "\n",
       "  Read any audiobooks during last 12months?  \\\n",
       "0                                        No   \n",
       "1                                       Yes   \n",
       "2                                       Yes   \n",
       "3                                        No   \n",
       "4                                       Yes   \n",
       "\n",
       "  Read any e-books during last 12months?  \\\n",
       "0                                    Yes   \n",
       "1                                    Yes   \n",
       "2                                    Yes   \n",
       "3                                    Yes   \n",
       "4                                     No   \n",
       "\n",
       "                           Last book you read, you…  \\\n",
       "0                                Purchased the book   \n",
       "1                                Purchased the book   \n",
       "2  Borrowed the book from a friend or family member   \n",
       "3                  Borrowed the book from a library   \n",
       "4                                Purchased the book   \n",
       "\n",
       "  Do you happen to read any daily news or newspapers?  \\\n",
       "0                                                 No    \n",
       "1                                                Yes    \n",
       "2                                                Yes    \n",
       "3                                                Yes    \n",
       "4                                                Yes    \n",
       "\n",
       "  Do you happen to read any magazines or journals?  \n",
       "0                                              Yes  \n",
       "1                                              Yes  \n",
       "2                                              Yes  \n",
       "3                                               No  \n",
       "4                                               No  "
      ]
     },
     "execution_count": 6,
     "metadata": {},
     "output_type": "execute_result"
    }
   ],
   "source": [
    "df.head()"
   ]
  },
  {
   "cell_type": "code",
   "execution_count": 7,
   "metadata": {
    "scrolled": false
   },
   "outputs": [
    {
     "data": {
      "text/html": [
       "<div>\n",
       "<style scoped>\n",
       "    .dataframe tbody tr th:only-of-type {\n",
       "        vertical-align: middle;\n",
       "    }\n",
       "\n",
       "    .dataframe tbody tr th {\n",
       "        vertical-align: top;\n",
       "    }\n",
       "\n",
       "    .dataframe thead th {\n",
       "        text-align: right;\n",
       "    }\n",
       "</style>\n",
       "<table border=\"1\" class=\"dataframe\">\n",
       "  <thead>\n",
       "    <tr style=\"text-align: right;\">\n",
       "      <th></th>\n",
       "      <th>Age</th>\n",
       "      <th>How many books did you read during last 12months?</th>\n",
       "    </tr>\n",
       "  </thead>\n",
       "  <tbody>\n",
       "    <tr>\n",
       "      <th>count</th>\n",
       "      <td>2832.000000</td>\n",
       "      <td>2832.000000</td>\n",
       "    </tr>\n",
       "    <tr>\n",
       "      <th>mean</th>\n",
       "      <td>47.276483</td>\n",
       "      <td>16.676201</td>\n",
       "    </tr>\n",
       "    <tr>\n",
       "      <th>std</th>\n",
       "      <td>18.565516</td>\n",
       "      <td>23.632071</td>\n",
       "    </tr>\n",
       "    <tr>\n",
       "      <th>min</th>\n",
       "      <td>16.000000</td>\n",
       "      <td>0.000000</td>\n",
       "    </tr>\n",
       "    <tr>\n",
       "      <th>25%</th>\n",
       "      <td>32.000000</td>\n",
       "      <td>2.750000</td>\n",
       "    </tr>\n",
       "    <tr>\n",
       "      <th>50%</th>\n",
       "      <td>48.000000</td>\n",
       "      <td>6.000000</td>\n",
       "    </tr>\n",
       "    <tr>\n",
       "      <th>75%</th>\n",
       "      <td>62.000000</td>\n",
       "      <td>20.000000</td>\n",
       "    </tr>\n",
       "    <tr>\n",
       "      <th>max</th>\n",
       "      <td>93.000000</td>\n",
       "      <td>97.000000</td>\n",
       "    </tr>\n",
       "  </tbody>\n",
       "</table>\n",
       "</div>"
      ],
      "text/plain": [
       "               Age  How many books did you read during last 12months?\n",
       "count  2832.000000                                        2832.000000\n",
       "mean     47.276483                                          16.676201\n",
       "std      18.565516                                          23.632071\n",
       "min      16.000000                                           0.000000\n",
       "25%      32.000000                                           2.750000\n",
       "50%      48.000000                                           6.000000\n",
       "75%      62.000000                                          20.000000\n",
       "max      93.000000                                          97.000000"
      ]
     },
     "execution_count": 7,
     "metadata": {},
     "output_type": "execute_result"
    }
   ],
   "source": [
    "df.describe()"
   ]
  },
  {
   "cell_type": "code",
   "execution_count": 44,
   "metadata": {},
   "outputs": [],
   "source": [
    "df01 = df[['Age','How many books did you read during last 12months?']].copy()"
   ]
  },
  {
   "cell_type": "code",
   "execution_count": 45,
   "metadata": {},
   "outputs": [
    {
     "data": {
      "text/html": [
       "<div>\n",
       "<style scoped>\n",
       "    .dataframe tbody tr th:only-of-type {\n",
       "        vertical-align: middle;\n",
       "    }\n",
       "\n",
       "    .dataframe tbody tr th {\n",
       "        vertical-align: top;\n",
       "    }\n",
       "\n",
       "    .dataframe thead th {\n",
       "        text-align: right;\n",
       "    }\n",
       "</style>\n",
       "<table border=\"1\" class=\"dataframe\">\n",
       "  <thead>\n",
       "    <tr style=\"text-align: right;\">\n",
       "      <th></th>\n",
       "      <th>Age</th>\n",
       "      <th>How many books did you read during last 12months?</th>\n",
       "    </tr>\n",
       "  </thead>\n",
       "  <tbody>\n",
       "    <tr>\n",
       "      <th>0</th>\n",
       "      <td>1.008689</td>\n",
       "      <td>3.399532</td>\n",
       "    </tr>\n",
       "    <tr>\n",
       "      <th>1</th>\n",
       "      <td>-0.068768</td>\n",
       "      <td>3.399532</td>\n",
       "    </tr>\n",
       "    <tr>\n",
       "      <th>2</th>\n",
       "      <td>-0.822987</td>\n",
       "      <td>3.399532</td>\n",
       "    </tr>\n",
       "    <tr>\n",
       "      <th>3</th>\n",
       "      <td>-1.092351</td>\n",
       "      <td>3.399532</td>\n",
       "    </tr>\n",
       "    <tr>\n",
       "      <th>4</th>\n",
       "      <td>-1.684952</td>\n",
       "      <td>3.399532</td>\n",
       "    </tr>\n",
       "    <tr>\n",
       "      <th>...</th>\n",
       "      <td>...</td>\n",
       "      <td>...</td>\n",
       "    </tr>\n",
       "    <tr>\n",
       "      <th>2827</th>\n",
       "      <td>-1.577207</td>\n",
       "      <td>-0.705784</td>\n",
       "    </tr>\n",
       "    <tr>\n",
       "      <th>2828</th>\n",
       "      <td>-1.631079</td>\n",
       "      <td>-0.705784</td>\n",
       "    </tr>\n",
       "    <tr>\n",
       "      <th>2829</th>\n",
       "      <td>-1.631079</td>\n",
       "      <td>-0.705784</td>\n",
       "    </tr>\n",
       "    <tr>\n",
       "      <th>2830</th>\n",
       "      <td>-1.684952</td>\n",
       "      <td>-0.705784</td>\n",
       "    </tr>\n",
       "    <tr>\n",
       "      <th>2831</th>\n",
       "      <td>-1.684952</td>\n",
       "      <td>-0.705784</td>\n",
       "    </tr>\n",
       "  </tbody>\n",
       "</table>\n",
       "<p>2832 rows × 2 columns</p>\n",
       "</div>"
      ],
      "text/plain": [
       "           Age  How many books did you read during last 12months?\n",
       "0     1.008689                                           3.399532\n",
       "1    -0.068768                                           3.399532\n",
       "2    -0.822987                                           3.399532\n",
       "3    -1.092351                                           3.399532\n",
       "4    -1.684952                                           3.399532\n",
       "...        ...                                                ...\n",
       "2827 -1.577207                                          -0.705784\n",
       "2828 -1.631079                                          -0.705784\n",
       "2829 -1.631079                                          -0.705784\n",
       "2830 -1.684952                                          -0.705784\n",
       "2831 -1.684952                                          -0.705784\n",
       "\n",
       "[2832 rows x 2 columns]"
      ]
     },
     "execution_count": 45,
     "metadata": {},
     "output_type": "execute_result"
    }
   ],
   "source": [
    "from sklearn.preprocessing import StandardScaler\n",
    "\n",
    "scaler = StandardScaler()\n",
    "dfs    = pd.DataFrame(scaler.fit_transform(df01),\n",
    "                      columns=df01.columns,\n",
    "                      index=df01.index)\n",
    "\n",
    "dfs"
   ]
  },
  {
   "cell_type": "code",
   "execution_count": 11,
   "metadata": {},
   "outputs": [
    {
     "data": {
      "text/plain": [
       "<seaborn.axisgrid.FacetGrid at 0x12492c640>"
      ]
     },
     "execution_count": 11,
     "metadata": {},
     "output_type": "execute_result"
    },
    {
     "data": {
      "image/png": "[encoded data removed]",
      "text/plain": [
       "<Figure size 360x360 with 1 Axes>"
      ]
     },
     "metadata": {
      "needs_background": "light"
     },
     "output_type": "display_data"
    }
   ],
   "source": [
    "import seaborn as sns\n",
    "\n",
    "sns.displot(df['How many books did you read during last 12months?'])"
   ]
  },
  {
   "cell_type": "code",
   "execution_count": 13,
   "metadata": {},
   "outputs": [
    {
     "data": {
      "text/plain": [
       "<seaborn.axisgrid.FacetGrid at 0x126dc2700>"
      ]
     },
     "execution_count": 13,
     "metadata": {},
     "output_type": "execute_result"
    },
    {
     "data": {
      "image/png": "[encoded data removed]",
      "text/plain": [
       "<Figure size 360x360 with 1 Axes>"
      ]
     },
     "metadata": {
      "needs_background": "light"
     },
     "output_type": "display_data"
    }
   ],
   "source": [
    "sns.displot(df['Age'])"
   ]
  },
  {
   "cell_type": "code",
   "execution_count": 14,
   "metadata": {},
   "outputs": [
    {
     "data": {
      "text/plain": [
       "<AxesSubplot:>"
      ]
     },
     "execution_count": 14,
     "metadata": {},
     "output_type": "execute_result"
    },
    {
     "data": {
      "image/png": "[encoded data removed]",
      "text/plain": [
       "<Figure size 432x288 with 1 Axes>"
      ]
     },
     "metadata": {
      "needs_background": "light"
     },
     "output_type": "display_data"
    }
   ],
   "source": [
    "sns.heatmap(df.corr(), \n",
    "            cbar=False, \n",
    "            annot=True)"
   ]
  },
  {
   "cell_type": "code",
   "execution_count": 15,
   "metadata": {
    "scrolled": false
   },
   "outputs": [
    {
     "data": {
      "text/plain": [
       "<seaborn.axisgrid.PairGrid at 0x126e18fa0>"
      ]
     },
     "execution_count": 15,
     "metadata": {},
     "output_type": "execute_result"
    },
    {
     "data": {
      "image/png": "[encoded data removed]",
      "text/plain": [
       "<Figure size 360x360 with 6 Axes>"
      ]
     },
     "metadata": {
      "needs_background": "light"
     },
     "output_type": "display_data"
    }
   ],
   "source": [
    "sns.pairplot(df)"
   ]
  },
  {
   "cell_type": "code",
   "execution_count": 30,
   "metadata": {},
   "outputs": [],
   "source": [
    "df_new = df[['Age','How many books did you read during last 12months?']].copy()"
   ]
  },
  {
   "cell_type": "code",
   "execution_count": 31,
   "metadata": {},
   "outputs": [
    {
     "data": {
      "text/html": [
       "<div>\n",
       "<style scoped>\n",
       "    .dataframe tbody tr th:only-of-type {\n",
       "        vertical-align: middle;\n",
       "    }\n",
       "\n",
       "    .dataframe tbody tr th {\n",
       "        vertical-align: top;\n",
       "    }\n",
       "\n",
       "    .dataframe thead th {\n",
       "        text-align: right;\n",
       "    }\n",
       "</style>\n",
       "<table border=\"1\" class=\"dataframe\">\n",
       "  <thead>\n",
       "    <tr style=\"text-align: right;\">\n",
       "      <th></th>\n",
       "      <th>Age</th>\n",
       "      <th>How many books did you read during last 12months?</th>\n",
       "    </tr>\n",
       "  </thead>\n",
       "  <tbody>\n",
       "    <tr>\n",
       "      <th>0</th>\n",
       "      <td>66</td>\n",
       "      <td>97</td>\n",
       "    </tr>\n",
       "    <tr>\n",
       "      <th>1</th>\n",
       "      <td>46</td>\n",
       "      <td>97</td>\n",
       "    </tr>\n",
       "    <tr>\n",
       "      <th>2</th>\n",
       "      <td>32</td>\n",
       "      <td>97</td>\n",
       "    </tr>\n",
       "    <tr>\n",
       "      <th>3</th>\n",
       "      <td>27</td>\n",
       "      <td>97</td>\n",
       "    </tr>\n",
       "    <tr>\n",
       "      <th>4</th>\n",
       "      <td>16</td>\n",
       "      <td>97</td>\n",
       "    </tr>\n",
       "  </tbody>\n",
       "</table>\n",
       "</div>"
      ],
      "text/plain": [
       "   Age  How many books did you read during last 12months?\n",
       "0   66                                                 97\n",
       "1   46                                                 97\n",
       "2   32                                                 97\n",
       "3   27                                                 97\n",
       "4   16                                                 97"
      ]
     },
     "execution_count": 31,
     "metadata": {},
     "output_type": "execute_result"
    }
   ],
   "source": [
    "df_new.head()"
   ]
  },
  {
   "cell_type": "code",
   "execution_count": 32,
   "metadata": {},
   "outputs": [
    {
     "data": {
      "text/html": [
       "<div>\n",
       "<style scoped>\n",
       "    .dataframe tbody tr th:only-of-type {\n",
       "        vertical-align: middle;\n",
       "    }\n",
       "\n",
       "    .dataframe tbody tr th {\n",
       "        vertical-align: top;\n",
       "    }\n",
       "\n",
       "    .dataframe thead th {\n",
       "        text-align: right;\n",
       "    }\n",
       "</style>\n",
       "<table border=\"1\" class=\"dataframe\">\n",
       "  <thead>\n",
       "    <tr style=\"text-align: right;\">\n",
       "      <th></th>\n",
       "      <th>Age</th>\n",
       "      <th>How many books did you read during last 12months?</th>\n",
       "    </tr>\n",
       "  </thead>\n",
       "  <tbody>\n",
       "    <tr>\n",
       "      <th>0</th>\n",
       "      <td>1.008689</td>\n",
       "      <td>3.399532</td>\n",
       "    </tr>\n",
       "    <tr>\n",
       "      <th>1</th>\n",
       "      <td>-0.068768</td>\n",
       "      <td>3.399532</td>\n",
       "    </tr>\n",
       "    <tr>\n",
       "      <th>2</th>\n",
       "      <td>-0.822987</td>\n",
       "      <td>3.399532</td>\n",
       "    </tr>\n",
       "    <tr>\n",
       "      <th>3</th>\n",
       "      <td>-1.092351</td>\n",
       "      <td>3.399532</td>\n",
       "    </tr>\n",
       "    <tr>\n",
       "      <th>4</th>\n",
       "      <td>-1.684952</td>\n",
       "      <td>3.399532</td>\n",
       "    </tr>\n",
       "    <tr>\n",
       "      <th>...</th>\n",
       "      <td>...</td>\n",
       "      <td>...</td>\n",
       "    </tr>\n",
       "    <tr>\n",
       "      <th>2827</th>\n",
       "      <td>-1.577207</td>\n",
       "      <td>-0.705784</td>\n",
       "    </tr>\n",
       "    <tr>\n",
       "      <th>2828</th>\n",
       "      <td>-1.631079</td>\n",
       "      <td>-0.705784</td>\n",
       "    </tr>\n",
       "    <tr>\n",
       "      <th>2829</th>\n",
       "      <td>-1.631079</td>\n",
       "      <td>-0.705784</td>\n",
       "    </tr>\n",
       "    <tr>\n",
       "      <th>2830</th>\n",
       "      <td>-1.684952</td>\n",
       "      <td>-0.705784</td>\n",
       "    </tr>\n",
       "    <tr>\n",
       "      <th>2831</th>\n",
       "      <td>-1.684952</td>\n",
       "      <td>-0.705784</td>\n",
       "    </tr>\n",
       "  </tbody>\n",
       "</table>\n",
       "<p>2832 rows × 2 columns</p>\n",
       "</div>"
      ],
      "text/plain": [
       "           Age  How many books did you read during last 12months?\n",
       "0     1.008689                                           3.399532\n",
       "1    -0.068768                                           3.399532\n",
       "2    -0.822987                                           3.399532\n",
       "3    -1.092351                                           3.399532\n",
       "4    -1.684952                                           3.399532\n",
       "...        ...                                                ...\n",
       "2827 -1.577207                                          -0.705784\n",
       "2828 -1.631079                                          -0.705784\n",
       "2829 -1.631079                                          -0.705784\n",
       "2830 -1.684952                                          -0.705784\n",
       "2831 -1.684952                                          -0.705784\n",
       "\n",
       "[2832 rows x 2 columns]"
      ]
     },
     "execution_count": 32,
     "metadata": {},
     "output_type": "execute_result"
    }
   ],
   "source": [
    "from sklearn.preprocessing import StandardScaler\n",
    "\n",
    "scaler = StandardScaler()\n",
    "dfs    = pd.DataFrame(scaler.fit_transform(df_new),\n",
    "                      columns=df_new.columns,\n",
    "                      index=df_new.index)\n",
    "\n",
    "dfs"
   ]
  },
  {
   "cell_type": "code",
   "execution_count": 33,
   "metadata": {},
   "outputs": [],
   "source": [
    "from sklearn.cluster import KMeans\n",
    "\n",
    "model = KMeans(n_clusters=10, random_state=42)\n",
    "\n",
    "km = model.fit(df_new)"
   ]
  },
  {
   "cell_type": "code",
   "execution_count": 35,
   "metadata": {},
   "outputs": [
    {
     "data": {
      "text/plain": [
       "array([[73.12149533,  5.25      ],\n",
       "       [28.37      , 24.18      ],\n",
       "       [63.58490566, 93.40566038],\n",
       "       [37.26223092,  5.05479452],\n",
       "       [54.02572347,  4.59485531],\n",
       "       [63.09929078, 48.25531915],\n",
       "       [29.57894737, 95.38596491],\n",
       "       [21.63397129,  5.18660287],\n",
       "       [58.54230769, 23.19230769],\n",
       "       [30.16853933, 49.02247191]])"
      ]
     },
     "execution_count": 35,
     "metadata": {},
     "output_type": "execute_result"
    }
   ],
   "source": [
    "km.cluster_centers_"
   ]
  },
  {
   "cell_type": "code",
   "execution_count": 36,
   "metadata": {},
   "outputs": [
    {
     "data": {
      "text/plain": [
       "array([2, 6, 6, ..., 7, 7, 7], dtype=int32)"
      ]
     },
     "execution_count": 36,
     "metadata": {},
     "output_type": "execute_result"
    }
   ],
   "source": [
    "km.labels_"
   ]
  },
  {
   "cell_type": "code",
   "execution_count": 38,
   "metadata": {},
   "outputs": [
    {
     "data": {
      "image/png": "[encoded data removed]",
      "text/plain": [
       "<Figure size 432x288 with 1 Axes>"
      ]
     },
     "metadata": {
      "needs_background": "light"
     },
     "output_type": "display_data"
    }
   ],
   "source": [
    "from matplotlib import pyplot as plt\n",
    "\n",
    "plt.scatter(dfs['Age'].values,\n",
    "            dfs['How many books did you read during last 12months?'].values,\n",
    "            c=km.labels_, \n",
    "            cmap='rainbow')\n",
    "\n",
    "plt.scatter(km.cluster_centers_[:, 0],\n",
    "            km.cluster_centers_[:, 1],\n",
    "            color='black') \n",
    "\n",
    "plt.show()"
   ]
  },
  {
   "cell_type": "code",
   "execution_count": 39,
   "metadata": {},
   "outputs": [
    {
     "name": "stdout",
     "output_type": "stream",
     "text": [
      "{\n",
      "  \"1\": 5663.999999999966,\n",
      "  \"2\": 3531.822263990598,\n",
      "  \"3\": 1738.8330312387702,\n",
      "  \"4\": 1358.450278213708,\n",
      "  \"5\": 1045.0159932482447,\n",
      "  \"6\": 854.2244365452433,\n",
      "  \"7\": 725.8493555043414,\n",
      "  \"8\": 601.9036656321719,\n",
      "  \"9\": 529.8204888258912\n",
      "}\n"
     ]
    }
   ],
   "source": [
    "import json\n",
    "\n",
    "def get_inertia_by_k(max_k=10):\n",
    "    results = {}\n",
    "    for k in range(1,max_k):\n",
    "        model = KMeans(n_clusters=k)\n",
    "        model.fit(dfs) \n",
    "        results[k] = model.inertia_ \n",
    "    return results\n",
    "\n",
    "\n",
    "results = get_inertia_by_k()\n",
    "print(json.dumps(results, indent=2))"
   ]
  },
  {
   "cell_type": "code",
   "execution_count": 41,
   "metadata": {},
   "outputs": [
    {
     "data": {
      "image/png": "[encoded data removed]",
      "text/plain": [
       "<Figure size 432x288 with 1 Axes>"
      ]
     },
     "metadata": {
      "needs_background": "light"
     },
     "output_type": "display_data"
    }
   ],
   "source": [
    "k        = list(results.keys())\n",
    "inertias = list(results.values())\n",
    "\n",
    "# 'o' for dots and '-' for lines\n",
    "plt.plot(k, inertias, 'o-') \n",
    "plt.xlabel('K') \n",
    "plt.ylabel('Inertia') \n",
    "plt.title('Elbow') \n",
    "plt.show()"
   ]
  },
  {
   "cell_type": "code",
   "execution_count": 42,
   "metadata": {},
   "outputs": [],
   "source": [
    "from sklearn.cluster import KMeans\n",
    "\n",
    "# create k-mean object\n",
    "model = KMeans(n_clusters=3, random_state=42)\n",
    "\n",
    "# train model\n",
    "best_km = model.fit(dfs)"
   ]
  },
  {
   "cell_type": "code",
   "execution_count": 43,
   "metadata": {},
   "outputs": [
    {
     "data": {
      "image/png": "[encoded data removed]",
      "text/plain": [
       "<Figure size 432x288 with 1 Axes>"
      ]
     },
     "metadata": {
      "needs_background": "light"
     },
     "output_type": "display_data"
    }
   ],
   "source": [
    "plt.scatter(dfs['Age'].values,\n",
    "            dfs['How many books did you read during last 12months?'].values,\n",
    "            c=best_km.labels_, \n",
    "            cmap='rainbow')\n",
    "\n",
    "# plot centroids\n",
    "plt.scatter(best_km.cluster_centers_[:, 0],\n",
    "            best_km.cluster_centers_[:, 1],\n",
    "            color='black') \n",
    "\n",
    "plt.show()"
   ]
  },
  {
   "cell_type": "code",
   "execution_count": null,
   "metadata": {},
   "outputs": [],
   "source": []
  }
 ],
 "metadata": {
  "kernelspec": {
   "display_name": "Python 3",
   "language": "python",
   "name": "python3"
  },
  "language_info": {
   "codemirror_mode": {
    "name": "ipython",
    "version": 3
   },
   "file_extension": ".py",
   "mimetype": "text/x-python",
   "name": "python",
   "nbconvert_exporter": "python",
   "pygments_lexer": "ipython3",
   "version": "3.8.6"
  }
 },
 "nbformat": 4,
 "nbformat_minor": 4
}
